{
 "cells": [
  {
   "cell_type": "code",
   "execution_count": 1,
   "metadata": {},
   "outputs": [],
   "source": [
    "import tensorflow as tf\n",
    "import numpy as np\n",
    "import os"
   ]
  },
  {
   "cell_type": "code",
   "execution_count": 2,
   "metadata": {},
   "outputs": [],
   "source": [
    "def get_all_files(file_path, is_random=True):\n",
    "    \"\"\"\n",
    "    获取图片路径及其标签\n",
    "    :param file_path: a sting, 图片所在目录\n",
    "    :param is_random: True or False, 是否乱序\n",
    "    :return:\n",
    "    \"\"\"\n",
    "    image_list = []\n",
    "    label_list = []\n",
    "\n",
    "    cat_count = 0\n",
    "    dog_count = 0\n",
    "    for item in os.listdir(file_path):\n",
    "        item_path = file_path + '\\\\' + item\n",
    "        item_label = item.split('.')[0]  # 文件名形如  cat.0.jpg,只需要取第一个\n",
    "\n",
    "        if os.path.isfile(item_path):\n",
    "            image_list.append(item_path)\n",
    "        else:\n",
    "            raise ValueError('文件夹中有非文件项.')\n",
    "\n",
    "        if item_label == 'cat':  # 猫标记为'0'\n",
    "            label_list.append(0)\n",
    "            cat_count += 1\n",
    "        else:  # 狗标记为'1'\n",
    "            label_list.append(1)\n",
    "            dog_count += 1\n",
    "    print('数据集中有%d只猫,%d只狗.' % (cat_count, dog_count))\n",
    "\n",
    "    image_list = np.asarray(image_list)\n",
    "    label_list = np.asarray(label_list)\n",
    "    "
   ]
  },
  {
   "cell_type": "code",
   "execution_count": 4,
   "metadata": {},
   "outputs": [
    {
     "ename": "IndentationError",
     "evalue": "expected an indented block (<ipython-input-4-c6832f554980>, line 20)",
     "output_type": "error",
     "traceback": [
      "\u001b[1;36m  File \u001b[1;32m\"<ipython-input-4-c6832f554980>\"\u001b[1;36m, line \u001b[1;32m20\u001b[0m\n\u001b[1;33m    \"\"\"\u001b[0m\n\u001b[1;37m       \n^\u001b[0m\n\u001b[1;31mIndentationError\u001b[0m\u001b[1;31m:\u001b[0m expected an indented block\n"
     ]
    }
   ],
   "source": [
    "    # 乱序文件\n",
    "    if is_random:\n",
    "        rnd_index = np.arange(len(image_list))\n",
    "        np.random.shuffle(rnd_index)\n",
    "        image_list = image_list[rnd_index]\n",
    "        label_list = label_list[rnd_index]\n",
    "\n",
    "    return image_list, label_list\n",
    "\n",
    "\n",
    "def get_batch(train_list, image_size, batch_size, capacity, is_random=True):\n",
    "    \"\"\"\n",
    "    获取训练批次\n",
    "    :param train_list: 2-D list, [image_list, label_list]\n",
    "    :param image_size: a int, 训练图像大小\n",
    "    :param batch_size: a int, 每个批次包含的样本数量\n",
    "    :param capacity: a int, 队列容量\n",
    "    :param is_random: True or False, 是否乱序\n",
    "    :return:\n",
    "    \"\"\"\n",
    "\n",
    "    intput_queue = tf.train.slice_input_producer(train_list, shuffle=False)"
   ]
  },
  {
   "cell_type": "code",
   "execution_count": 5,
   "metadata": {},
   "outputs": [
    {
     "ename": "AttributeError",
     "evalue": "module 'tensorflow' has no attribute 'read_file'",
     "output_type": "error",
     "traceback": [
      "\u001b[1;31m---------------------------------------------------------------------------\u001b[0m",
      "\u001b[1;31mAttributeError\u001b[0m                            Traceback (most recent call last)",
      "\u001b[1;32m<ipython-input-5-4c8b50372d48>\u001b[0m in \u001b[0;36m<module>\u001b[1;34m\u001b[0m\n\u001b[0;32m      1\u001b[0m \u001b[1;31m# 从路径中读取图片\u001b[0m\u001b[1;33m\u001b[0m\u001b[1;33m\u001b[0m\u001b[1;33m\u001b[0m\u001b[0m\n\u001b[1;32m----> 2\u001b[1;33m \u001b[0mimage_train\u001b[0m \u001b[1;33m=\u001b[0m \u001b[0mtf\u001b[0m\u001b[1;33m.\u001b[0m\u001b[0mread_file\u001b[0m\u001b[1;33m(\u001b[0m\u001b[0mintput_queue\u001b[0m\u001b[1;33m[\u001b[0m\u001b[1;36m0\u001b[0m\u001b[1;33m]\u001b[0m\u001b[1;33m)\u001b[0m\u001b[1;33m\u001b[0m\u001b[1;33m\u001b[0m\u001b[0m\n\u001b[0m\u001b[0;32m      3\u001b[0m \u001b[0mimage_train\u001b[0m \u001b[1;33m=\u001b[0m \u001b[0mtf\u001b[0m\u001b[1;33m.\u001b[0m\u001b[0mimage\u001b[0m\u001b[1;33m.\u001b[0m\u001b[0mdecode_jpeg\u001b[0m\u001b[1;33m(\u001b[0m\u001b[0mimage_train\u001b[0m\u001b[1;33m,\u001b[0m \u001b[0mchannels\u001b[0m\u001b[1;33m=\u001b[0m\u001b[1;36m3\u001b[0m\u001b[1;33m)\u001b[0m  \u001b[1;31m# 这里是jpg格式\u001b[0m\u001b[1;33m\u001b[0m\u001b[1;33m\u001b[0m\u001b[0m\n\u001b[0;32m      4\u001b[0m \u001b[0mimage_train\u001b[0m \u001b[1;33m=\u001b[0m \u001b[0mtf\u001b[0m\u001b[1;33m.\u001b[0m\u001b[0mimage\u001b[0m\u001b[1;33m.\u001b[0m\u001b[0mresize_images\u001b[0m\u001b[1;33m(\u001b[0m\u001b[0mimage_train\u001b[0m\u001b[1;33m,\u001b[0m \u001b[1;33m[\u001b[0m\u001b[0mimage_size\u001b[0m\u001b[1;33m,\u001b[0m \u001b[0mimage_size\u001b[0m\u001b[1;33m]\u001b[0m\u001b[1;33m)\u001b[0m\u001b[1;33m\u001b[0m\u001b[1;33m\u001b[0m\u001b[0m\n\u001b[0;32m      5\u001b[0m \u001b[0mimage_train\u001b[0m \u001b[1;33m=\u001b[0m \u001b[0mtf\u001b[0m\u001b[1;33m.\u001b[0m\u001b[0mcast\u001b[0m\u001b[1;33m(\u001b[0m\u001b[0mimage_train\u001b[0m\u001b[1;33m,\u001b[0m \u001b[0mtf\u001b[0m\u001b[1;33m.\u001b[0m\u001b[0mfloat32\u001b[0m\u001b[1;33m)\u001b[0m \u001b[1;33m/\u001b[0m \u001b[1;36m255.\u001b[0m  \u001b[1;31m# 转换数据类型并归一化\u001b[0m\u001b[1;33m\u001b[0m\u001b[1;33m\u001b[0m\u001b[0m\n",
      "\u001b[1;31mAttributeError\u001b[0m: module 'tensorflow' has no attribute 'read_file'"
     ]
    }
   ],
   "source": [
    "    # 从路径中读取图片\n",
    "    image_train = tf.read_file(intput_queue[0])\n",
    "    image_train = tf.image.decode_jpeg(image_train, channels=3)  # 这里是jpg格式\n",
    "    image_train = tf.image.resize_images(image_train, [image_size, image_size])\n",
    "    image_train = tf.cast(image_train, tf.float32) / 255.  # 转换数据类型并归一化"
   ]
  },
  {
   "cell_type": "code",
   "execution_count": null,
   "metadata": {},
   "outputs": [],
   "source": [
    "    # 图片标签\n",
    "    label_train = intput_queue[1]"
   ]
  },
  {
   "cell_type": "code",
   "execution_count": null,
   "metadata": {},
   "outputs": [],
   "source": [
    "    # 获取批次\n",
    "    if is_random:\n",
    "        image_train_batch, label_train_batch = tf.train.shuffle_batch([image_train, label_train],\n",
    "                                                                      batch_size=batch_size,\n",
    "                                                                      capacity=capacity,\n",
    "                                                                      min_after_dequeue=100,\n",
    "                                                                      num_threads=2)\n",
    "    else:\n",
    "        image_train_batch, label_train_batch = tf.train.batch([image_train, label_train],\n",
    "                                                              batch_size=1,\n",
    "                                                              capacity=capacity,\n",
    "                                                              num_threads=1)\n",
    "    return image_train_batch, label_train_batch\n",
    "\n",
    "\n",
    "if __name__ == '__main__':\n",
    "    import matplotlib.pyplot as plt"
   ]
  },
  {
   "cell_type": "code",
   "execution_count": null,
   "metadata": {},
   "outputs": [],
   "source": [
    "    # 测试图片读取\n",
    "    image_dir = 'data\\\\train'\n",
    "    train_list = get_all_files(image_dir, True)\n",
    "    image_train_batch, label_train_batch = get_batch(train_list, 256, 1, 200, False)\n",
    "\n",
    "    sess = tf.Session()\n",
    "\n",
    "    coord = tf.train.Coordinator()\n",
    "    threads = tf.train.start_queue_runners(sess=sess, coord=coord)\n",
    "\n",
    "    try:\n",
    "        for step in range(10):\n",
    "            if coord.should_stop():\n",
    "                break\n",
    "\n",
    "            image_batch, label_batch = sess.run([image_train_batch, label_train_batch])\n",
    "            if label_batch[0] == 0:\n",
    "                label = 'Cat'\n",
    "            else:\n",
    "                label = 'Dog'\n",
    "            plt.imshow(image_batch[0]), plt.title(label)\n",
    "            plt.show()\n",
    "\n",
    "    except tf.errors.OutOfRangeError:\n",
    "        print('Done.')\n",
    "    finally:\n",
    "        coord.request_stop()\n",
    "\n",
    "    coord.join(threads=threads)\n",
    "    sess.close()"
   ]
  }
 ],
 "metadata": {
  "kernelspec": {
   "display_name": "Python 3",
   "language": "python",
   "name": "python3"
  },
  "language_info": {
   "codemirror_mode": {
    "name": "ipython",
    "version": 3
   },
   "file_extension": ".py",
   "mimetype": "text/x-python",
   "name": "python",
   "nbconvert_exporter": "python",
   "pygments_lexer": "ipython3",
   "version": "3.7.4"
  }
 },
 "nbformat": 4,
 "nbformat_minor": 2
}
